{
 "cells": [
  {
   "cell_type": "code",
   "execution_count": 24,
   "metadata": {},
   "outputs": [],
   "source": [
    "import pandas as pd\n",
    "import requests\n",
    "from bs4 import BeautifulSoup\n",
    "import ssl"
   ]
  },
  {
   "cell_type": "code",
   "execution_count": 33,
   "metadata": {},
   "outputs": [],
   "source": [
    "crypto_name_list = []\n",
    "crypto_market_cap_list = []\n",
    "crypto_price_list = []\n",
    "crypto_circulating_supply_list = []\n",
    "crypto_symbol_list = []\n",
    "\n",
    "df = pd.DataFrame()"
   ]
  },
  {
   "cell_type": "code",
   "execution_count": 34,
   "metadata": {},
   "outputs": [
    {
     "name": "stderr",
     "output_type": "stream",
     "text": [
      "c:\\Users\\kwater\\AppData\\Local\\Programs\\Python\\Python39\\lib\\site-packages\\urllib3\\connectionpool.py:1013: InsecureRequestWarning: Unverified HTTPS request is being made to host 'coinmarketcap.com'. Adding certificate verification is strongly advised. See: https://urllib3.readthedocs.io/en/1.26.x/advanced-usage.html#ssl-warnings\n",
      "  warnings.warn(\n"
     ]
    }
   ],
   "source": [
    "url = 'https://coinmarketcap.com/ko/historical/20240313/'\n",
    "webpage = requests.get(url, verify=False)\n",
    "soup = BeautifulSoup(webpage.text, 'html.parser')\n",
    "\n",
    "tr = soup.find_all('tr', attrs={'class': 'cmc-table-row'})"
   ]
  },
  {
   "cell_type": "code",
   "execution_count": 35,
   "metadata": {},
   "outputs": [],
   "source": [
    "count = 0\n",
    "\n",
    "for row in tr:\n",
    "    if count == 10:\n",
    "        break;\n",
    "    count += 1\n",
    "    name_column = row.find('td', attrs={'class': 'cmc-table__cell cmc-table__cell--sticky cmc-table__cell--sortable cmc-table__cell--left cmc-table__cell--sort-by__name'})\n",
    "\n",
    "    crypto_name = name_column.find('a', attrs={'class': 'cmc-table__column-name--name cmc-link'}).text.strip() \n",
    "    crypto_market_cap = row.find('td', attrs={'class': 'cmc-table__cell cmc-table__cell--sortable cmc-table__cell--right cmc-table__cell--sort-by__market-cap'}).text.strip()\n",
    "    crypto_price = row.find('td', attrs={'class': 'cmc-table__cell cmc-table__cell--sortable cmc-table__cell--right cmc-table__cell--sort-by__price'}).text.strip()   \n",
    "\n",
    "    crypto_circulating_supply_and_symbol = row.find('td', attrs={'class': 'cmc-table__cell cmc-table__cell--sortable cmc-table__cell--right cmc-table__cell--sort-by__circulating-supply'}).text.strip()\n",
    "    crypto_circulating_supply = crypto_circulating_supply_and_symbol.split(' ')[0]\n",
    "    crypto_symbol = crypto_circulating_supply_and_symbol.split(' ')[1]\n",
    "\n",
    "\n",
    "    crypto_name_list.append(crypto_name)\n",
    "    crypto_market_cap_list.append(crypto_market_cap)\n",
    "    crypto_price_list.append(crypto_price)\n",
    "    crypto_circulating_supply_list.append(crypto_circulating_supply)\n",
    "    crypto_symbol_list.append(crypto_symbol)\n",
    "\n"
   ]
  },
  {
   "cell_type": "code",
   "execution_count": 36,
   "metadata": {},
   "outputs": [
    {
     "data": {
      "text/html": [
       "<div>\n",
       "<style scoped>\n",
       "    .dataframe tbody tr th:only-of-type {\n",
       "        vertical-align: middle;\n",
       "    }\n",
       "\n",
       "    .dataframe tbody tr th {\n",
       "        vertical-align: top;\n",
       "    }\n",
       "\n",
       "    .dataframe thead th {\n",
       "        text-align: right;\n",
       "    }\n",
       "</style>\n",
       "<table border=\"1\" class=\"dataframe\">\n",
       "  <thead>\n",
       "    <tr style=\"text-align: right;\">\n",
       "      <th></th>\n",
       "      <th>이름</th>\n",
       "      <th>시가 총액</th>\n",
       "      <th>가격</th>\n",
       "      <th>유통 공급량</th>\n",
       "      <th>심볼</th>\n",
       "    </tr>\n",
       "  </thead>\n",
       "  <tbody>\n",
       "    <tr>\n",
       "      <th>0</th>\n",
       "      <td>Bitcoin</td>\n",
       "      <td>$1,436,352,951,618.65</td>\n",
       "      <td>$73,083.50</td>\n",
       "      <td>19,653,587</td>\n",
       "      <td>BTC</td>\n",
       "    </tr>\n",
       "    <tr>\n",
       "      <th>1</th>\n",
       "      <td>Ethereum</td>\n",
       "      <td>$481,133,906,189.28</td>\n",
       "      <td>$4,006.46</td>\n",
       "      <td>120,089,623</td>\n",
       "      <td>ETH</td>\n",
       "    </tr>\n",
       "    <tr>\n",
       "      <th>2</th>\n",
       "      <td>Tether USDt</td>\n",
       "      <td>$102,715,928,092.53</td>\n",
       "      <td>$1.0005</td>\n",
       "      <td>102,662,860,010</td>\n",
       "      <td>USDT</td>\n",
       "    </tr>\n",
       "    <tr>\n",
       "      <th>3</th>\n",
       "      <td>BNB</td>\n",
       "      <td>$94,293,752,180.10</td>\n",
       "      <td>$630.56</td>\n",
       "      <td>149,539,386</td>\n",
       "      <td>BNB</td>\n",
       "    </tr>\n",
       "    <tr>\n",
       "      <th>4</th>\n",
       "      <td>Solana</td>\n",
       "      <td>$72,668,065,993.03</td>\n",
       "      <td>$163.84</td>\n",
       "      <td>443,531,181</td>\n",
       "      <td>SOL</td>\n",
       "    </tr>\n",
       "    <tr>\n",
       "      <th>5</th>\n",
       "      <td>XRP</td>\n",
       "      <td>$37,820,409,722.67</td>\n",
       "      <td>$0.6909</td>\n",
       "      <td>54,736,825,690</td>\n",
       "      <td>XRP</td>\n",
       "    </tr>\n",
       "    <tr>\n",
       "      <th>6</th>\n",
       "      <td>USDC</td>\n",
       "      <td>$30,771,778,883.50</td>\n",
       "      <td>$0.9998</td>\n",
       "      <td>30,778,884,803</td>\n",
       "      <td>USDC</td>\n",
       "    </tr>\n",
       "    <tr>\n",
       "      <th>7</th>\n",
       "      <td>Cardano</td>\n",
       "      <td>$27,184,187,205.45</td>\n",
       "      <td>$0.7646</td>\n",
       "      <td>35,554,416,920</td>\n",
       "      <td>ADA</td>\n",
       "    </tr>\n",
       "    <tr>\n",
       "      <th>8</th>\n",
       "      <td>Dogecoin</td>\n",
       "      <td>$24,266,655,179.62</td>\n",
       "      <td>$0.1692</td>\n",
       "      <td>143,455,696,384</td>\n",
       "      <td>DOGE</td>\n",
       "    </tr>\n",
       "    <tr>\n",
       "      <th>9</th>\n",
       "      <td>Avalanche</td>\n",
       "      <td>$20,732,588,246.92</td>\n",
       "      <td>$54.95</td>\n",
       "      <td>377,311,202</td>\n",
       "      <td>AVAX</td>\n",
       "    </tr>\n",
       "  </tbody>\n",
       "</table>\n",
       "</div>"
      ],
      "text/plain": [
       "            이름                  시가 총액          가격           유통 공급량    심볼\n",
       "0      Bitcoin  $1,436,352,951,618.65  $73,083.50       19,653,587   BTC\n",
       "1     Ethereum    $481,133,906,189.28   $4,006.46      120,089,623   ETH\n",
       "2  Tether USDt    $102,715,928,092.53     $1.0005  102,662,860,010  USDT\n",
       "3          BNB     $94,293,752,180.10     $630.56      149,539,386   BNB\n",
       "4       Solana     $72,668,065,993.03     $163.84      443,531,181   SOL\n",
       "5          XRP     $37,820,409,722.67     $0.6909   54,736,825,690   XRP\n",
       "6         USDC     $30,771,778,883.50     $0.9998   30,778,884,803  USDC\n",
       "7      Cardano     $27,184,187,205.45     $0.7646   35,554,416,920   ADA\n",
       "8     Dogecoin     $24,266,655,179.62     $0.1692  143,455,696,384  DOGE\n",
       "9    Avalanche     $20,732,588,246.92      $54.95      377,311,202  AVAX"
      ]
     },
     "execution_count": 36,
     "metadata": {},
     "output_type": "execute_result"
    }
   ],
   "source": [
    "df['이름'] = crypto_name_list\n",
    "df['시가 총액'] = crypto_market_cap_list\n",
    "df['가격'] = crypto_price_list\n",
    "df['유통 공급량'] = crypto_circulating_supply_list\n",
    "df['심볼'] = crypto_symbol_list\n",
    "\n",
    "df"
   ]
  },
  {
   "cell_type": "code",
   "execution_count": null,
   "metadata": {},
   "outputs": [],
   "source": []
  },
  {
   "cell_type": "code",
   "execution_count": null,
   "metadata": {},
   "outputs": [],
   "source": []
  }
 ],
 "metadata": {
  "kernelspec": {
   "display_name": "Python 3",
   "language": "python",
   "name": "python3"
  },
  "language_info": {
   "codemirror_mode": {
    "name": "ipython",
    "version": 3
   },
   "file_extension": ".py",
   "mimetype": "text/x-python",
   "name": "python",
   "nbconvert_exporter": "python",
   "pygments_lexer": "ipython3",
   "version": "3.9.13"
  },
  "orig_nbformat": 4
 },
 "nbformat": 4,
 "nbformat_minor": 2
}
